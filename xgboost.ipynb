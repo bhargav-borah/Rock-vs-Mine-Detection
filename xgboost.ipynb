{
  "nbformat": 4,
  "nbformat_minor": 0,
  "metadata": {
    "colab": {
      "provenance": [],
      "authorship_tag": "ABX9TyPA27UdPNtOtQwiNP+Y8uG4",
      "include_colab_link": true
    },
    "kernelspec": {
      "name": "python3",
      "display_name": "Python 3"
    },
    "language_info": {
      "name": "python"
    }
  },
  "cells": [
    {
      "cell_type": "markdown",
      "metadata": {
        "id": "view-in-github",
        "colab_type": "text"
      },
      "source": [
        "<a href=\"https://colab.research.google.com/github/bhargav-borah/Rock-vs-Mine-Detection/blob/main/xgboost.ipynb\" target=\"_parent\"><img src=\"https://colab.research.google.com/assets/colab-badge.svg\" alt=\"Open In Colab\"/></a>"
      ]
    },
    {
      "cell_type": "markdown",
      "source": [
        "# XGBoost"
      ],
      "metadata": {
        "id": "GDHJh93LCzlR"
      }
    },
    {
      "cell_type": "markdown",
      "source": [
        "## Importing the libraries"
      ],
      "metadata": {
        "id": "VRz4T8JPC2Bw"
      }
    },
    {
      "cell_type": "code",
      "source": [
        "import numpy as np\n",
        "import pandas as pd"
      ],
      "metadata": {
        "id": "_JzaeRG7C1Wy"
      },
      "execution_count": 1,
      "outputs": []
    },
    {
      "cell_type": "markdown",
      "source": [
        "## Importing the data set"
      ],
      "metadata": {
        "id": "ggjCUhEUC9Ab"
      }
    },
    {
      "cell_type": "code",
      "source": [
        "dataset = pd.read_csv('sonar_data.csv', header = None)\n",
        "X = dataset.iloc[:, :-1].values\n",
        "y = dataset.iloc[:, -1].values"
      ],
      "metadata": {
        "id": "4RWmNKciC7Qb"
      },
      "execution_count": 2,
      "outputs": []
    },
    {
      "cell_type": "markdown",
      "source": [
        "## Label Encoding Dependent Variable"
      ],
      "metadata": {
        "id": "fV0Md3HYD61f"
      }
    },
    {
      "cell_type": "code",
      "source": [
        "from sklearn.preprocessing import LabelEncoder\n",
        "le = LabelEncoder()\n",
        "y = le.fit_transform(y)"
      ],
      "metadata": {
        "id": "3X1qlt-DD-q1"
      },
      "execution_count": 6,
      "outputs": []
    },
    {
      "cell_type": "markdown",
      "source": [
        "## Splitting the data set into the Training set and the Test set"
      ],
      "metadata": {
        "id": "94PUZvBHDTcy"
      }
    },
    {
      "cell_type": "code",
      "source": [
        "from sklearn.model_selection import train_test_split\n",
        "X_train, X_test, y_train, y_test = train_test_split(X, y, test_size = 0.25, random_state = 0)"
      ],
      "metadata": {
        "id": "adVPbOXJDJjZ"
      },
      "execution_count": 7,
      "outputs": []
    },
    {
      "cell_type": "markdown",
      "source": [
        "## Training XGBoost on the Training set"
      ],
      "metadata": {
        "id": "aHQodUdtDhb7"
      }
    },
    {
      "cell_type": "code",
      "source": [
        "from xgboost import XGBClassifier\n",
        "classifier = XGBClassifier()\n",
        "classifier.fit(X_train, y_train)"
      ],
      "metadata": {
        "colab": {
          "base_uri": "https://localhost:8080/",
          "height": 248
        },
        "id": "Rm7GJQRkDgqy",
        "outputId": "151e2353-34b4-43ba-e39e-9ffc9d854de1"
      },
      "execution_count": 8,
      "outputs": [
        {
          "output_type": "execute_result",
          "data": {
            "text/plain": [
              "XGBClassifier(base_score=None, booster=None, callbacks=None,\n",
              "              colsample_bylevel=None, colsample_bynode=None,\n",
              "              colsample_bytree=None, early_stopping_rounds=None,\n",
              "              enable_categorical=False, eval_metric=None, feature_types=None,\n",
              "              gamma=None, gpu_id=None, grow_policy=None, importance_type=None,\n",
              "              interaction_constraints=None, learning_rate=None, max_bin=None,\n",
              "              max_cat_threshold=None, max_cat_to_onehot=None,\n",
              "              max_delta_step=None, max_depth=None, max_leaves=None,\n",
              "              min_child_weight=None, missing=nan, monotone_constraints=None,\n",
              "              n_estimators=100, n_jobs=None, num_parallel_tree=None,\n",
              "              predictor=None, random_state=None, ...)"
            ],
            "text/html": [
              "<style>#sk-container-id-1 {color: black;background-color: white;}#sk-container-id-1 pre{padding: 0;}#sk-container-id-1 div.sk-toggleable {background-color: white;}#sk-container-id-1 label.sk-toggleable__label {cursor: pointer;display: block;width: 100%;margin-bottom: 0;padding: 0.3em;box-sizing: border-box;text-align: center;}#sk-container-id-1 label.sk-toggleable__label-arrow:before {content: \"▸\";float: left;margin-right: 0.25em;color: #696969;}#sk-container-id-1 label.sk-toggleable__label-arrow:hover:before {color: black;}#sk-container-id-1 div.sk-estimator:hover label.sk-toggleable__label-arrow:before {color: black;}#sk-container-id-1 div.sk-toggleable__content {max-height: 0;max-width: 0;overflow: hidden;text-align: left;background-color: #f0f8ff;}#sk-container-id-1 div.sk-toggleable__content pre {margin: 0.2em;color: black;border-radius: 0.25em;background-color: #f0f8ff;}#sk-container-id-1 input.sk-toggleable__control:checked~div.sk-toggleable__content {max-height: 200px;max-width: 100%;overflow: auto;}#sk-container-id-1 input.sk-toggleable__control:checked~label.sk-toggleable__label-arrow:before {content: \"▾\";}#sk-container-id-1 div.sk-estimator input.sk-toggleable__control:checked~label.sk-toggleable__label {background-color: #d4ebff;}#sk-container-id-1 div.sk-label input.sk-toggleable__control:checked~label.sk-toggleable__label {background-color: #d4ebff;}#sk-container-id-1 input.sk-hidden--visually {border: 0;clip: rect(1px 1px 1px 1px);clip: rect(1px, 1px, 1px, 1px);height: 1px;margin: -1px;overflow: hidden;padding: 0;position: absolute;width: 1px;}#sk-container-id-1 div.sk-estimator {font-family: monospace;background-color: #f0f8ff;border: 1px dotted black;border-radius: 0.25em;box-sizing: border-box;margin-bottom: 0.5em;}#sk-container-id-1 div.sk-estimator:hover {background-color: #d4ebff;}#sk-container-id-1 div.sk-parallel-item::after {content: \"\";width: 100%;border-bottom: 1px solid gray;flex-grow: 1;}#sk-container-id-1 div.sk-label:hover label.sk-toggleable__label {background-color: #d4ebff;}#sk-container-id-1 div.sk-serial::before {content: \"\";position: absolute;border-left: 1px solid gray;box-sizing: border-box;top: 0;bottom: 0;left: 50%;z-index: 0;}#sk-container-id-1 div.sk-serial {display: flex;flex-direction: column;align-items: center;background-color: white;padding-right: 0.2em;padding-left: 0.2em;position: relative;}#sk-container-id-1 div.sk-item {position: relative;z-index: 1;}#sk-container-id-1 div.sk-parallel {display: flex;align-items: stretch;justify-content: center;background-color: white;position: relative;}#sk-container-id-1 div.sk-item::before, #sk-container-id-1 div.sk-parallel-item::before {content: \"\";position: absolute;border-left: 1px solid gray;box-sizing: border-box;top: 0;bottom: 0;left: 50%;z-index: -1;}#sk-container-id-1 div.sk-parallel-item {display: flex;flex-direction: column;z-index: 1;position: relative;background-color: white;}#sk-container-id-1 div.sk-parallel-item:first-child::after {align-self: flex-end;width: 50%;}#sk-container-id-1 div.sk-parallel-item:last-child::after {align-self: flex-start;width: 50%;}#sk-container-id-1 div.sk-parallel-item:only-child::after {width: 0;}#sk-container-id-1 div.sk-dashed-wrapped {border: 1px dashed gray;margin: 0 0.4em 0.5em 0.4em;box-sizing: border-box;padding-bottom: 0.4em;background-color: white;}#sk-container-id-1 div.sk-label label {font-family: monospace;font-weight: bold;display: inline-block;line-height: 1.2em;}#sk-container-id-1 div.sk-label-container {text-align: center;}#sk-container-id-1 div.sk-container {/* jupyter's `normalize.less` sets `[hidden] { display: none; }` but bootstrap.min.css set `[hidden] { display: none !important; }` so we also need the `!important` here to be able to override the default hidden behavior on the sphinx rendered scikit-learn.org. See: https://github.com/scikit-learn/scikit-learn/issues/21755 */display: inline-block !important;position: relative;}#sk-container-id-1 div.sk-text-repr-fallback {display: none;}</style><div id=\"sk-container-id-1\" class=\"sk-top-container\"><div class=\"sk-text-repr-fallback\"><pre>XGBClassifier(base_score=None, booster=None, callbacks=None,\n",
              "              colsample_bylevel=None, colsample_bynode=None,\n",
              "              colsample_bytree=None, early_stopping_rounds=None,\n",
              "              enable_categorical=False, eval_metric=None, feature_types=None,\n",
              "              gamma=None, gpu_id=None, grow_policy=None, importance_type=None,\n",
              "              interaction_constraints=None, learning_rate=None, max_bin=None,\n",
              "              max_cat_threshold=None, max_cat_to_onehot=None,\n",
              "              max_delta_step=None, max_depth=None, max_leaves=None,\n",
              "              min_child_weight=None, missing=nan, monotone_constraints=None,\n",
              "              n_estimators=100, n_jobs=None, num_parallel_tree=None,\n",
              "              predictor=None, random_state=None, ...)</pre><b>In a Jupyter environment, please rerun this cell to show the HTML representation or trust the notebook. <br />On GitHub, the HTML representation is unable to render, please try loading this page with nbviewer.org.</b></div><div class=\"sk-container\" hidden><div class=\"sk-item\"><div class=\"sk-estimator sk-toggleable\"><input class=\"sk-toggleable__control sk-hidden--visually\" id=\"sk-estimator-id-1\" type=\"checkbox\" checked><label for=\"sk-estimator-id-1\" class=\"sk-toggleable__label sk-toggleable__label-arrow\">XGBClassifier</label><div class=\"sk-toggleable__content\"><pre>XGBClassifier(base_score=None, booster=None, callbacks=None,\n",
              "              colsample_bylevel=None, colsample_bynode=None,\n",
              "              colsample_bytree=None, early_stopping_rounds=None,\n",
              "              enable_categorical=False, eval_metric=None, feature_types=None,\n",
              "              gamma=None, gpu_id=None, grow_policy=None, importance_type=None,\n",
              "              interaction_constraints=None, learning_rate=None, max_bin=None,\n",
              "              max_cat_threshold=None, max_cat_to_onehot=None,\n",
              "              max_delta_step=None, max_depth=None, max_leaves=None,\n",
              "              min_child_weight=None, missing=nan, monotone_constraints=None,\n",
              "              n_estimators=100, n_jobs=None, num_parallel_tree=None,\n",
              "              predictor=None, random_state=None, ...)</pre></div></div></div></div></div>"
            ]
          },
          "metadata": {},
          "execution_count": 8
        }
      ]
    },
    {
      "cell_type": "markdown",
      "source": [
        "## Model Evaluation"
      ],
      "metadata": {
        "id": "yMZ_2vWyEJlJ"
      }
    },
    {
      "cell_type": "markdown",
      "source": [
        "### Accuracy on the Training set"
      ],
      "metadata": {
        "id": "o8Hh4TGoEPAP"
      }
    },
    {
      "cell_type": "code",
      "source": [
        "y_pred_train = classifier.predict(X_train)\n",
        "print(np.concatenate((le.inverse_transform(y_train).reshape(-1, 1), le.inverse_transform(y_pred_train).reshape(-1, 1)), axis = 1))"
      ],
      "metadata": {
        "colab": {
          "base_uri": "https://localhost:8080/"
        },
        "id": "4KDVUfS1DrkK",
        "outputId": "b42555a5-5fa6-4374-c572-2c98874af20c"
      },
      "execution_count": 11,
      "outputs": [
        {
          "output_type": "stream",
          "name": "stdout",
          "text": [
            "[['M' 'M']\n",
            " ['M' 'M']\n",
            " ['R' 'R']\n",
            " ['R' 'R']\n",
            " ['M' 'M']\n",
            " ['M' 'M']\n",
            " ['M' 'M']\n",
            " ['M' 'M']\n",
            " ['M' 'M']\n",
            " ['M' 'M']\n",
            " ['R' 'R']\n",
            " ['R' 'R']\n",
            " ['R' 'R']\n",
            " ['R' 'R']\n",
            " ['R' 'R']\n",
            " ['R' 'R']\n",
            " ['M' 'M']\n",
            " ['R' 'R']\n",
            " ['R' 'R']\n",
            " ['M' 'M']\n",
            " ['M' 'M']\n",
            " ['R' 'R']\n",
            " ['M' 'M']\n",
            " ['R' 'R']\n",
            " ['M' 'M']\n",
            " ['M' 'M']\n",
            " ['M' 'M']\n",
            " ['M' 'M']\n",
            " ['M' 'M']\n",
            " ['M' 'M']\n",
            " ['M' 'M']\n",
            " ['M' 'M']\n",
            " ['R' 'R']\n",
            " ['R' 'R']\n",
            " ['M' 'M']\n",
            " ['M' 'M']\n",
            " ['R' 'R']\n",
            " ['R' 'R']\n",
            " ['M' 'M']\n",
            " ['M' 'M']\n",
            " ['M' 'M']\n",
            " ['R' 'R']\n",
            " ['R' 'R']\n",
            " ['R' 'R']\n",
            " ['M' 'M']\n",
            " ['M' 'M']\n",
            " ['R' 'R']\n",
            " ['R' 'R']\n",
            " ['M' 'M']\n",
            " ['R' 'R']\n",
            " ['M' 'M']\n",
            " ['M' 'M']\n",
            " ['M' 'M']\n",
            " ['M' 'M']\n",
            " ['M' 'M']\n",
            " ['R' 'R']\n",
            " ['R' 'R']\n",
            " ['M' 'M']\n",
            " ['M' 'M']\n",
            " ['M' 'M']\n",
            " ['R' 'R']\n",
            " ['M' 'M']\n",
            " ['R' 'R']\n",
            " ['R' 'R']\n",
            " ['M' 'M']\n",
            " ['R' 'R']\n",
            " ['R' 'R']\n",
            " ['M' 'M']\n",
            " ['R' 'R']\n",
            " ['R' 'R']\n",
            " ['R' 'R']\n",
            " ['R' 'R']\n",
            " ['R' 'R']\n",
            " ['M' 'M']\n",
            " ['R' 'R']\n",
            " ['M' 'M']\n",
            " ['R' 'R']\n",
            " ['R' 'R']\n",
            " ['M' 'M']\n",
            " ['M' 'M']\n",
            " ['M' 'M']\n",
            " ['M' 'M']\n",
            " ['R' 'R']\n",
            " ['R' 'R']\n",
            " ['R' 'R']\n",
            " ['M' 'M']\n",
            " ['M' 'M']\n",
            " ['M' 'M']\n",
            " ['M' 'M']\n",
            " ['R' 'R']\n",
            " ['M' 'M']\n",
            " ['R' 'R']\n",
            " ['M' 'M']\n",
            " ['M' 'M']\n",
            " ['R' 'R']\n",
            " ['R' 'R']\n",
            " ['R' 'R']\n",
            " ['R' 'R']\n",
            " ['M' 'M']\n",
            " ['M' 'M']\n",
            " ['R' 'R']\n",
            " ['M' 'M']\n",
            " ['M' 'M']\n",
            " ['M' 'M']\n",
            " ['R' 'R']\n",
            " ['R' 'R']\n",
            " ['M' 'M']\n",
            " ['R' 'R']\n",
            " ['M' 'M']\n",
            " ['M' 'M']\n",
            " ['R' 'R']\n",
            " ['R' 'R']\n",
            " ['M' 'M']\n",
            " ['M' 'M']\n",
            " ['M' 'M']\n",
            " ['R' 'R']\n",
            " ['M' 'M']\n",
            " ['M' 'M']\n",
            " ['M' 'M']\n",
            " ['R' 'R']\n",
            " ['M' 'M']\n",
            " ['M' 'M']\n",
            " ['M' 'M']\n",
            " ['M' 'M']\n",
            " ['R' 'R']\n",
            " ['M' 'M']\n",
            " ['R' 'R']\n",
            " ['M' 'M']\n",
            " ['R' 'R']\n",
            " ['M' 'M']\n",
            " ['M' 'M']\n",
            " ['M' 'M']\n",
            " ['R' 'R']\n",
            " ['R' 'R']\n",
            " ['R' 'R']\n",
            " ['M' 'M']\n",
            " ['R' 'R']\n",
            " ['M' 'M']\n",
            " ['M' 'M']\n",
            " ['M' 'M']\n",
            " ['R' 'R']\n",
            " ['R' 'R']\n",
            " ['M' 'M']\n",
            " ['R' 'R']\n",
            " ['R' 'R']\n",
            " ['R' 'R']\n",
            " ['R' 'R']\n",
            " ['R' 'R']\n",
            " ['R' 'R']\n",
            " ['M' 'M']\n",
            " ['M' 'M']\n",
            " ['R' 'R']\n",
            " ['M' 'M']\n",
            " ['M' 'M']\n",
            " ['R' 'R']\n",
            " ['M' 'M']]\n"
          ]
        }
      ]
    },
    {
      "cell_type": "code",
      "source": [
        "from sklearn.metrics import accuracy_score, confusion_matrix\n",
        "print(confusion_matrix(y_train, y_pred_train))\n",
        "print(accuracy_score(y_train, y_pred_train))"
      ],
      "metadata": {
        "colab": {
          "base_uri": "https://localhost:8080/"
        },
        "id": "zObufXxJEmj-",
        "outputId": "d2379869-61a2-48a0-c088-55319841d3a4"
      },
      "execution_count": 13,
      "outputs": [
        {
          "output_type": "stream",
          "name": "stdout",
          "text": [
            "[[85  0]\n",
            " [ 0 71]]\n",
            "1.0\n"
          ]
        }
      ]
    },
    {
      "cell_type": "markdown",
      "source": [
        "### Accuracy on the Test set"
      ],
      "metadata": {
        "id": "A251fDkQFPV5"
      }
    },
    {
      "cell_type": "code",
      "source": [
        "y_pred_test = classifier.predict(X_test)\n",
        "print(np.concatenate((le.inverse_transform(y_test).reshape(-1, 1), le.inverse_transform(y_pred_test).reshape(-1, 1)), axis = 1))"
      ],
      "metadata": {
        "colab": {
          "base_uri": "https://localhost:8080/"
        },
        "id": "sfdSJ9feFOqn",
        "outputId": "ded1d074-8dd6-4dff-90eb-1b0db3afdf85"
      },
      "execution_count": 14,
      "outputs": [
        {
          "output_type": "stream",
          "name": "stdout",
          "text": [
            "[['R' 'R']\n",
            " ['R' 'R']\n",
            " ['R' 'M']\n",
            " ['R' 'R']\n",
            " ['M' 'M']\n",
            " ['R' 'R']\n",
            " ['M' 'M']\n",
            " ['M' 'M']\n",
            " ['R' 'R']\n",
            " ['M' 'M']\n",
            " ['R' 'R']\n",
            " ['M' 'M']\n",
            " ['R' 'R']\n",
            " ['M' 'M']\n",
            " ['R' 'R']\n",
            " ['R' 'R']\n",
            " ['M' 'M']\n",
            " ['R' 'R']\n",
            " ['R' 'R']\n",
            " ['R' 'R']\n",
            " ['M' 'M']\n",
            " ['R' 'R']\n",
            " ['R' 'M']\n",
            " ['R' 'R']\n",
            " ['R' 'R']\n",
            " ['M' 'M']\n",
            " ['M' 'M']\n",
            " ['M' 'M']\n",
            " ['M' 'M']\n",
            " ['M' 'M']\n",
            " ['R' 'R']\n",
            " ['M' 'M']\n",
            " ['M' 'R']\n",
            " ['R' 'R']\n",
            " ['M' 'M']\n",
            " ['M' 'M']\n",
            " ['M' 'M']\n",
            " ['M' 'M']\n",
            " ['R' 'M']\n",
            " ['M' 'M']\n",
            " ['M' 'M']\n",
            " ['R' 'M']\n",
            " ['M' 'R']\n",
            " ['M' 'M']\n",
            " ['R' 'R']\n",
            " ['R' 'R']\n",
            " ['M' 'M']\n",
            " ['R' 'R']\n",
            " ['R' 'R']\n",
            " ['M' 'M']\n",
            " ['R' 'R']\n",
            " ['M' 'M']]\n"
          ]
        }
      ]
    },
    {
      "cell_type": "code",
      "source": [
        "print(confusion_matrix(y_test, y_pred_test))\n",
        "print(accuracy_score(y_test, y_pred_test))"
      ],
      "metadata": {
        "colab": {
          "base_uri": "https://localhost:8080/"
        },
        "id": "_Dad76U7FJQ0",
        "outputId": "d7b0c852-4b7d-4cfc-cc52-d1e7180c835d"
      },
      "execution_count": 15,
      "outputs": [
        {
          "output_type": "stream",
          "name": "stdout",
          "text": [
            "[[24  2]\n",
            " [ 4 22]]\n",
            "0.8846153846153846\n"
          ]
        }
      ]
    }
  ]
}